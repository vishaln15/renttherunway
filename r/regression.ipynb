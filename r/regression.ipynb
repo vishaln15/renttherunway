{
 "cells": [
  {
   "cell_type": "code",
   "execution_count": 1,
   "id": "15410770",
   "metadata": {},
   "outputs": [
    {
     "name": "stderr",
     "output_type": "stream",
     "text": [
      "/Users/ranjangsk/opt/anaconda3/envs/py38/lib/python3.8/site-packages/scipy/__init__.py:146: UserWarning: A NumPy version >=1.16.5 and <1.23.0 is required for this version of SciPy (detected version 1.23.4\n",
      "  warnings.warn(f\"A NumPy version >={np_minversion} and <{np_maxversion}\"\n"
     ]
    }
   ],
   "source": [
    "import gzip\n",
    "import json\n",
    "import pandas as pd\n",
    "from sklearn.model_selection import train_test_split\n",
    "from sklearn.utils import shuffle\n",
    "import numpy as np"
   ]
  },
  {
   "cell_type": "code",
   "execution_count": null,
   "id": "d2a3d555",
   "metadata": {},
   "outputs": [],
   "source": [
    "import tensorflow as tf"
   ]
  },
  {
   "cell_type": "code",
   "execution_count": null,
   "id": "e02ff841",
   "metadata": {},
   "outputs": [],
   "source": [
    "f = gzip.open(\"renttherunway_final_data.json.gz\")\n",
    "dataset = []\n",
    "for l in f:\n",
    "    dataset.append(json.loads(l))"
   ]
  },
  {
   "cell_type": "code",
   "execution_count": null,
   "id": "2c3516d2",
   "metadata": {},
   "outputs": [],
   "source": [
    "df = pd.read_json(\"renttherunway_final_data.json.gz\",lines = True)\n",
    "df = shuffle(df)"
   ]
  },
  {
   "cell_type": "code",
   "execution_count": null,
   "id": "61533367",
   "metadata": {},
   "outputs": [],
   "source": [
    "bert_df = df[[\"review_text\",\"review_summary\",\"rating\"]]\n",
    "bert_df[\"review_total\"] = bert_df[\"review_summary\"]+ \" \" +bert_df[\"review_text\"]\n",
    "\n",
    "bert_df=bert_df.drop([\"review_text\",\"review_summary\"],axis=1)\n",
    "bert_df = bert_df[:170000]\n",
    "\n",
    "bert_df['rating'].value_counts()\n",
    "\n",
    "def convert_rating(rating):\n",
    "    if rating <= 6:\n",
    "        out = 0\n",
    "    elif rating == 8:\n",
    "        out = 1\n",
    "    else:\n",
    "        out = 2\n",
    "    return out\n",
    "\n",
    "bert_df[\"target\"] = bert_df[\"rating\"].apply(lambda x: convert_rating(x))\n",
    "\n",
    "bert_df[\"target\"].value_counts()\n",
    "\n",
    "X_train, X_test,y_train, y_test = train_test_split(X,y)"
   ]
  },
  {
   "cell_type": "code",
   "execution_count": null,
   "id": "fc1f7b11",
   "metadata": {},
   "outputs": [],
   "source": []
  },
  {
   "cell_type": "code",
   "execution_count": null,
   "id": "3e7b747b",
   "metadata": {},
   "outputs": [],
   "source": []
  }
 ],
 "metadata": {
  "kernelspec": {
   "display_name": "Python 3 (ipykernel)",
   "language": "python",
   "name": "python3"
  },
  "language_info": {
   "codemirror_mode": {
    "name": "ipython",
    "version": 3
   },
   "file_extension": ".py",
   "mimetype": "text/x-python",
   "name": "python",
   "nbconvert_exporter": "python",
   "pygments_lexer": "ipython3",
   "version": "3.8.15"
  },
  "vscode": {
   "interpreter": {
    "hash": "b0fa6594d8f4cbf19f97940f81e996739fb7646882a419484c72d19e05852a7e"
   }
  }
 },
 "nbformat": 4,
 "nbformat_minor": 5
}
