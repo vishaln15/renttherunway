{
 "cells": [
  {
   "cell_type": "code",
   "execution_count": 1,
   "id": "533f90f5",
   "metadata": {},
   "outputs": [],
   "source": [
    "import json\n",
    "from matplotlib import pyplot as plt\n",
    "import sklearn\n",
    "from collections import defaultdict\n",
    "from sklearn import linear_model\n",
    "import numpy as np\n",
    "import random\n",
    "import gzip\n",
    "import math\n",
    "import pandas as pd \n",
    "import seaborn as sns\n",
    "from sklearn.tree import DecisionTreeRegressor\n",
    "\n",
    "from sklearn.linear_model import LogisticRegression\n",
    "from sklearn.discriminant_analysis import LinearDiscriminantAnalysis\n",
    "from sklearn.neighbors import KNeighborsClassifier\n",
    "from sklearn.naive_bayes import GaussianNB\n",
    "from sklearn.tree import DecisionTreeClassifier\n",
    "from sklearn.svm import SVC\n",
    "from sklearn.metrics import accuracy_score\n",
    "from sklearn.preprocessing import LabelEncoder\n",
    "import warnings\n",
    "warnings.simplefilter(\"ignore\")\n",
    "\n",
    "from sklearn.neural_network import MLPClassifier\n",
    "from sklearn.ensemble import RandomForestClassifier\n"
   ]
  },
  {
   "cell_type": "code",
   "execution_count": 2,
   "id": "5aa74f51",
   "metadata": {},
   "outputs": [
    {
     "data": {
      "text/html": [
       "<div>\n",
       "<style scoped>\n",
       "    .dataframe tbody tr th:only-of-type {\n",
       "        vertical-align: middle;\n",
       "    }\n",
       "\n",
       "    .dataframe tbody tr th {\n",
       "        vertical-align: top;\n",
       "    }\n",
       "\n",
       "    .dataframe thead th {\n",
       "        text-align: right;\n",
       "    }\n",
       "</style>\n",
       "<table border=\"1\" class=\"dataframe\">\n",
       "  <thead>\n",
       "    <tr style=\"text-align: right;\">\n",
       "      <th></th>\n",
       "      <th>fit</th>\n",
       "      <th>user_id</th>\n",
       "      <th>bust size</th>\n",
       "      <th>item_id</th>\n",
       "      <th>weight</th>\n",
       "      <th>rating</th>\n",
       "      <th>rented for</th>\n",
       "      <th>review_text</th>\n",
       "      <th>body type</th>\n",
       "      <th>review_summary</th>\n",
       "      <th>category</th>\n",
       "      <th>height</th>\n",
       "      <th>size</th>\n",
       "      <th>age</th>\n",
       "      <th>review_date</th>\n",
       "    </tr>\n",
       "  </thead>\n",
       "  <tbody>\n",
       "    <tr>\n",
       "      <th>0</th>\n",
       "      <td>fit</td>\n",
       "      <td>420272</td>\n",
       "      <td>34d</td>\n",
       "      <td>2260466</td>\n",
       "      <td>137lbs</td>\n",
       "      <td>10</td>\n",
       "      <td>vacation</td>\n",
       "      <td>An adorable romper! Belt and zipper were a lit...</td>\n",
       "      <td>hourglass</td>\n",
       "      <td>So many compliments!</td>\n",
       "      <td>romper</td>\n",
       "      <td>5' 8\"</td>\n",
       "      <td>14</td>\n",
       "      <td>28</td>\n",
       "      <td>April 20, 2016</td>\n",
       "    </tr>\n",
       "    <tr>\n",
       "      <th>1</th>\n",
       "      <td>fit</td>\n",
       "      <td>273551</td>\n",
       "      <td>34b</td>\n",
       "      <td>153475</td>\n",
       "      <td>132lbs</td>\n",
       "      <td>10</td>\n",
       "      <td>other</td>\n",
       "      <td>I rented this dress for a photo shoot. The the...</td>\n",
       "      <td>straight &amp; narrow</td>\n",
       "      <td>I felt so glamourous!!!</td>\n",
       "      <td>gown</td>\n",
       "      <td>5' 6\"</td>\n",
       "      <td>12</td>\n",
       "      <td>36</td>\n",
       "      <td>June 18, 2013</td>\n",
       "    </tr>\n",
       "    <tr>\n",
       "      <th>2</th>\n",
       "      <td>fit</td>\n",
       "      <td>360448</td>\n",
       "      <td>NaN</td>\n",
       "      <td>1063761</td>\n",
       "      <td>NaN</td>\n",
       "      <td>10</td>\n",
       "      <td>party</td>\n",
       "      <td>This hugged in all the right places! It was a ...</td>\n",
       "      <td>NaN</td>\n",
       "      <td>It was a great time to celebrate the (almost) ...</td>\n",
       "      <td>sheath</td>\n",
       "      <td>5' 4\"</td>\n",
       "      <td>4</td>\n",
       "      <td>116</td>\n",
       "      <td>December 14, 2015</td>\n",
       "    </tr>\n",
       "    <tr>\n",
       "      <th>3</th>\n",
       "      <td>fit</td>\n",
       "      <td>909926</td>\n",
       "      <td>34c</td>\n",
       "      <td>126335</td>\n",
       "      <td>135lbs</td>\n",
       "      <td>8</td>\n",
       "      <td>formal affair</td>\n",
       "      <td>I rented this for my company's black tie award...</td>\n",
       "      <td>pear</td>\n",
       "      <td>Dress arrived on time and in perfect condition.</td>\n",
       "      <td>dress</td>\n",
       "      <td>5' 5\"</td>\n",
       "      <td>8</td>\n",
       "      <td>34</td>\n",
       "      <td>February 12, 2014</td>\n",
       "    </tr>\n",
       "    <tr>\n",
       "      <th>4</th>\n",
       "      <td>fit</td>\n",
       "      <td>151944</td>\n",
       "      <td>34b</td>\n",
       "      <td>616682</td>\n",
       "      <td>145lbs</td>\n",
       "      <td>10</td>\n",
       "      <td>wedding</td>\n",
       "      <td>I have always been petite in my upper body and...</td>\n",
       "      <td>athletic</td>\n",
       "      <td>Was in love with this dress !!!</td>\n",
       "      <td>gown</td>\n",
       "      <td>5' 9\"</td>\n",
       "      <td>12</td>\n",
       "      <td>27</td>\n",
       "      <td>September 26, 2016</td>\n",
       "    </tr>\n",
       "    <tr>\n",
       "      <th>...</th>\n",
       "      <td>...</td>\n",
       "      <td>...</td>\n",
       "      <td>...</td>\n",
       "      <td>...</td>\n",
       "      <td>...</td>\n",
       "      <td>...</td>\n",
       "      <td>...</td>\n",
       "      <td>...</td>\n",
       "      <td>...</td>\n",
       "      <td>...</td>\n",
       "      <td>...</td>\n",
       "      <td>...</td>\n",
       "      <td>...</td>\n",
       "      <td>...</td>\n",
       "      <td>...</td>\n",
       "    </tr>\n",
       "    <tr>\n",
       "      <th>192539</th>\n",
       "      <td>fit</td>\n",
       "      <td>66386</td>\n",
       "      <td>34dd</td>\n",
       "      <td>2252812</td>\n",
       "      <td>140lbs</td>\n",
       "      <td>10</td>\n",
       "      <td>work</td>\n",
       "      <td>Fit like a glove!</td>\n",
       "      <td>hourglass</td>\n",
       "      <td>LOVE IT!!! First Item Im thinking of buying!</td>\n",
       "      <td>jumpsuit</td>\n",
       "      <td>5' 9\"</td>\n",
       "      <td>8</td>\n",
       "      <td>42</td>\n",
       "      <td>May 18, 2016</td>\n",
       "    </tr>\n",
       "    <tr>\n",
       "      <th>192540</th>\n",
       "      <td>fit</td>\n",
       "      <td>118398</td>\n",
       "      <td>32c</td>\n",
       "      <td>682043</td>\n",
       "      <td>100lbs</td>\n",
       "      <td>10</td>\n",
       "      <td>work</td>\n",
       "      <td>The pattern contrast on this dress is really s...</td>\n",
       "      <td>petite</td>\n",
       "      <td>LOVE it!</td>\n",
       "      <td>dress</td>\n",
       "      <td>5' 1\"</td>\n",
       "      <td>4</td>\n",
       "      <td>29</td>\n",
       "      <td>September 30, 2016</td>\n",
       "    </tr>\n",
       "    <tr>\n",
       "      <th>192541</th>\n",
       "      <td>fit</td>\n",
       "      <td>47002</td>\n",
       "      <td>36a</td>\n",
       "      <td>683251</td>\n",
       "      <td>135lbs</td>\n",
       "      <td>6</td>\n",
       "      <td>everyday</td>\n",
       "      <td>Like the other DVF wraps, the fit on this is f...</td>\n",
       "      <td>straight &amp; narrow</td>\n",
       "      <td>Loud patterning, flattering fit</td>\n",
       "      <td>dress</td>\n",
       "      <td>5' 8\"</td>\n",
       "      <td>8</td>\n",
       "      <td>31</td>\n",
       "      <td>March 4, 2016</td>\n",
       "    </tr>\n",
       "    <tr>\n",
       "      <th>192542</th>\n",
       "      <td>fit</td>\n",
       "      <td>961120</td>\n",
       "      <td>36c</td>\n",
       "      <td>126335</td>\n",
       "      <td>165lbs</td>\n",
       "      <td>10</td>\n",
       "      <td>wedding</td>\n",
       "      <td>This dress was PERFECTION.  it looked incredib...</td>\n",
       "      <td>pear</td>\n",
       "      <td>loved this dress it was comfortable and photog...</td>\n",
       "      <td>dress</td>\n",
       "      <td>5' 6\"</td>\n",
       "      <td>16</td>\n",
       "      <td>31</td>\n",
       "      <td>November 25, 2015</td>\n",
       "    </tr>\n",
       "    <tr>\n",
       "      <th>192543</th>\n",
       "      <td>fit</td>\n",
       "      <td>123612</td>\n",
       "      <td>36b</td>\n",
       "      <td>127865</td>\n",
       "      <td>155lbs</td>\n",
       "      <td>10</td>\n",
       "      <td>wedding</td>\n",
       "      <td>This dress was wonderful! I had originally pla...</td>\n",
       "      <td>athletic</td>\n",
       "      <td>I wore this to a beautiful black tie optional ...</td>\n",
       "      <td>gown</td>\n",
       "      <td>5' 6\"</td>\n",
       "      <td>16</td>\n",
       "      <td>30</td>\n",
       "      <td>August 29, 2017</td>\n",
       "    </tr>\n",
       "  </tbody>\n",
       "</table>\n",
       "<p>192544 rows × 15 columns</p>\n",
       "</div>"
      ],
      "text/plain": [
       "        fit user_id bust size  item_id  weight rating     rented for  \\\n",
       "0       fit  420272       34d  2260466  137lbs     10       vacation   \n",
       "1       fit  273551       34b   153475  132lbs     10          other   \n",
       "2       fit  360448       NaN  1063761     NaN     10          party   \n",
       "3       fit  909926       34c   126335  135lbs      8  formal affair   \n",
       "4       fit  151944       34b   616682  145lbs     10        wedding   \n",
       "...     ...     ...       ...      ...     ...    ...            ...   \n",
       "192539  fit   66386      34dd  2252812  140lbs     10           work   \n",
       "192540  fit  118398       32c   682043  100lbs     10           work   \n",
       "192541  fit   47002       36a   683251  135lbs      6       everyday   \n",
       "192542  fit  961120       36c   126335  165lbs     10        wedding   \n",
       "192543  fit  123612       36b   127865  155lbs     10        wedding   \n",
       "\n",
       "                                              review_text          body type  \\\n",
       "0       An adorable romper! Belt and zipper were a lit...          hourglass   \n",
       "1       I rented this dress for a photo shoot. The the...  straight & narrow   \n",
       "2       This hugged in all the right places! It was a ...                NaN   \n",
       "3       I rented this for my company's black tie award...               pear   \n",
       "4       I have always been petite in my upper body and...           athletic   \n",
       "...                                                   ...                ...   \n",
       "192539                                  Fit like a glove!          hourglass   \n",
       "192540  The pattern contrast on this dress is really s...             petite   \n",
       "192541  Like the other DVF wraps, the fit on this is f...  straight & narrow   \n",
       "192542  This dress was PERFECTION.  it looked incredib...               pear   \n",
       "192543  This dress was wonderful! I had originally pla...           athletic   \n",
       "\n",
       "                                           review_summary  category height  \\\n",
       "0                                    So many compliments!    romper  5' 8\"   \n",
       "1                                 I felt so glamourous!!!      gown  5' 6\"   \n",
       "2       It was a great time to celebrate the (almost) ...    sheath  5' 4\"   \n",
       "3        Dress arrived on time and in perfect condition.      dress  5' 5\"   \n",
       "4                         Was in love with this dress !!!      gown  5' 9\"   \n",
       "...                                                   ...       ...    ...   \n",
       "192539       LOVE IT!!! First Item Im thinking of buying!  jumpsuit  5' 9\"   \n",
       "192540                                           LOVE it!     dress  5' 1\"   \n",
       "192541                    Loud patterning, flattering fit     dress  5' 8\"   \n",
       "192542  loved this dress it was comfortable and photog...     dress  5' 6\"   \n",
       "192543  I wore this to a beautiful black tie optional ...      gown  5' 6\"   \n",
       "\n",
       "        size  age         review_date  \n",
       "0         14   28      April 20, 2016  \n",
       "1         12   36       June 18, 2013  \n",
       "2          4  116   December 14, 2015  \n",
       "3          8   34   February 12, 2014  \n",
       "4         12   27  September 26, 2016  \n",
       "...      ...  ...                 ...  \n",
       "192539     8   42        May 18, 2016  \n",
       "192540     4   29  September 30, 2016  \n",
       "192541     8   31       March 4, 2016  \n",
       "192542    16   31   November 25, 2015  \n",
       "192543    16   30     August 29, 2017  \n",
       "\n",
       "[192544 rows x 15 columns]"
      ]
     },
     "execution_count": 2,
     "metadata": {},
     "output_type": "execute_result"
    }
   ],
   "source": [
    "data2 = []\n",
    "for line in open(\"renttherunway_final_data.json\", \"r\"):\n",
    "    data2.append(json.loads(line))\n",
    "\n",
    "df2 = pd.DataFrame.from_dict(data2)\n",
    "df2"
   ]
  },
  {
   "cell_type": "code",
   "execution_count": 3,
   "id": "f5c8c315",
   "metadata": {},
   "outputs": [],
   "source": [
    "series = df2.category.value_counts(0)"
   ]
  },
  {
   "cell_type": "code",
   "execution_count": 4,
   "id": "fb93ce27",
   "metadata": {},
   "outputs": [],
   "source": [
    "series = series.reset_index()"
   ]
  },
  {
   "cell_type": "code",
   "execution_count": 5,
   "id": "53fc8c35",
   "metadata": {},
   "outputs": [],
   "source": [
    "df = df2.copy()"
   ]
  },
  {
   "cell_type": "code",
   "execution_count": 6,
   "id": "c5d096f1",
   "metadata": {},
   "outputs": [],
   "source": [
    "df = df.dropna(subset=[\"rating\"])\n",
    "#df = df.drop(columns=[\"rented for\", \"bust size\", \"body type\", \"review_date\", \"user_id\"])\n",
    "df = df.drop(columns=['fit','body type','bust size','category','item_id','user_id','rented for','review_date','age'])"
   ]
  },
  {
   "cell_type": "code",
   "execution_count": 7,
   "id": "ea175347",
   "metadata": {},
   "outputs": [
    {
     "data": {
      "text/html": [
       "<div>\n",
       "<style scoped>\n",
       "    .dataframe tbody tr th:only-of-type {\n",
       "        vertical-align: middle;\n",
       "    }\n",
       "\n",
       "    .dataframe tbody tr th {\n",
       "        vertical-align: top;\n",
       "    }\n",
       "\n",
       "    .dataframe thead th {\n",
       "        text-align: right;\n",
       "    }\n",
       "</style>\n",
       "<table border=\"1\" class=\"dataframe\">\n",
       "  <thead>\n",
       "    <tr style=\"text-align: right;\">\n",
       "      <th></th>\n",
       "      <th>weight</th>\n",
       "      <th>rating</th>\n",
       "      <th>review_text</th>\n",
       "      <th>review_summary</th>\n",
       "      <th>height</th>\n",
       "      <th>size</th>\n",
       "    </tr>\n",
       "  </thead>\n",
       "  <tbody>\n",
       "    <tr>\n",
       "      <th>0</th>\n",
       "      <td>137lbs</td>\n",
       "      <td>10</td>\n",
       "      <td>An adorable romper! Belt and zipper were a lit...</td>\n",
       "      <td>So many compliments!</td>\n",
       "      <td>5' 8\"</td>\n",
       "      <td>14</td>\n",
       "    </tr>\n",
       "    <tr>\n",
       "      <th>1</th>\n",
       "      <td>132lbs</td>\n",
       "      <td>10</td>\n",
       "      <td>I rented this dress for a photo shoot. The the...</td>\n",
       "      <td>I felt so glamourous!!!</td>\n",
       "      <td>5' 6\"</td>\n",
       "      <td>12</td>\n",
       "    </tr>\n",
       "    <tr>\n",
       "      <th>2</th>\n",
       "      <td>NaN</td>\n",
       "      <td>10</td>\n",
       "      <td>This hugged in all the right places! It was a ...</td>\n",
       "      <td>It was a great time to celebrate the (almost) ...</td>\n",
       "      <td>5' 4\"</td>\n",
       "      <td>4</td>\n",
       "    </tr>\n",
       "    <tr>\n",
       "      <th>3</th>\n",
       "      <td>135lbs</td>\n",
       "      <td>8</td>\n",
       "      <td>I rented this for my company's black tie award...</td>\n",
       "      <td>Dress arrived on time and in perfect condition.</td>\n",
       "      <td>5' 5\"</td>\n",
       "      <td>8</td>\n",
       "    </tr>\n",
       "    <tr>\n",
       "      <th>4</th>\n",
       "      <td>145lbs</td>\n",
       "      <td>10</td>\n",
       "      <td>I have always been petite in my upper body and...</td>\n",
       "      <td>Was in love with this dress !!!</td>\n",
       "      <td>5' 9\"</td>\n",
       "      <td>12</td>\n",
       "    </tr>\n",
       "    <tr>\n",
       "      <th>...</th>\n",
       "      <td>...</td>\n",
       "      <td>...</td>\n",
       "      <td>...</td>\n",
       "      <td>...</td>\n",
       "      <td>...</td>\n",
       "      <td>...</td>\n",
       "    </tr>\n",
       "    <tr>\n",
       "      <th>192539</th>\n",
       "      <td>140lbs</td>\n",
       "      <td>10</td>\n",
       "      <td>Fit like a glove!</td>\n",
       "      <td>LOVE IT!!! First Item Im thinking of buying!</td>\n",
       "      <td>5' 9\"</td>\n",
       "      <td>8</td>\n",
       "    </tr>\n",
       "    <tr>\n",
       "      <th>192540</th>\n",
       "      <td>100lbs</td>\n",
       "      <td>10</td>\n",
       "      <td>The pattern contrast on this dress is really s...</td>\n",
       "      <td>LOVE it!</td>\n",
       "      <td>5' 1\"</td>\n",
       "      <td>4</td>\n",
       "    </tr>\n",
       "    <tr>\n",
       "      <th>192541</th>\n",
       "      <td>135lbs</td>\n",
       "      <td>6</td>\n",
       "      <td>Like the other DVF wraps, the fit on this is f...</td>\n",
       "      <td>Loud patterning, flattering fit</td>\n",
       "      <td>5' 8\"</td>\n",
       "      <td>8</td>\n",
       "    </tr>\n",
       "    <tr>\n",
       "      <th>192542</th>\n",
       "      <td>165lbs</td>\n",
       "      <td>10</td>\n",
       "      <td>This dress was PERFECTION.  it looked incredib...</td>\n",
       "      <td>loved this dress it was comfortable and photog...</td>\n",
       "      <td>5' 6\"</td>\n",
       "      <td>16</td>\n",
       "    </tr>\n",
       "    <tr>\n",
       "      <th>192543</th>\n",
       "      <td>155lbs</td>\n",
       "      <td>10</td>\n",
       "      <td>This dress was wonderful! I had originally pla...</td>\n",
       "      <td>I wore this to a beautiful black tie optional ...</td>\n",
       "      <td>5' 6\"</td>\n",
       "      <td>16</td>\n",
       "    </tr>\n",
       "  </tbody>\n",
       "</table>\n",
       "<p>192462 rows × 6 columns</p>\n",
       "</div>"
      ],
      "text/plain": [
       "        weight rating                                        review_text  \\\n",
       "0       137lbs     10  An adorable romper! Belt and zipper were a lit...   \n",
       "1       132lbs     10  I rented this dress for a photo shoot. The the...   \n",
       "2          NaN     10  This hugged in all the right places! It was a ...   \n",
       "3       135lbs      8  I rented this for my company's black tie award...   \n",
       "4       145lbs     10  I have always been petite in my upper body and...   \n",
       "...        ...    ...                                                ...   \n",
       "192539  140lbs     10                                  Fit like a glove!   \n",
       "192540  100lbs     10  The pattern contrast on this dress is really s...   \n",
       "192541  135lbs      6  Like the other DVF wraps, the fit on this is f...   \n",
       "192542  165lbs     10  This dress was PERFECTION.  it looked incredib...   \n",
       "192543  155lbs     10  This dress was wonderful! I had originally pla...   \n",
       "\n",
       "                                           review_summary height  size  \n",
       "0                                    So many compliments!  5' 8\"    14  \n",
       "1                                 I felt so glamourous!!!  5' 6\"    12  \n",
       "2       It was a great time to celebrate the (almost) ...  5' 4\"     4  \n",
       "3        Dress arrived on time and in perfect condition.   5' 5\"     8  \n",
       "4                         Was in love with this dress !!!  5' 9\"    12  \n",
       "...                                                   ...    ...   ...  \n",
       "192539       LOVE IT!!! First Item Im thinking of buying!  5' 9\"     8  \n",
       "192540                                           LOVE it!  5' 1\"     4  \n",
       "192541                    Loud patterning, flattering fit  5' 8\"     8  \n",
       "192542  loved this dress it was comfortable and photog...  5' 6\"    16  \n",
       "192543  I wore this to a beautiful black tie optional ...  5' 6\"    16  \n",
       "\n",
       "[192462 rows x 6 columns]"
      ]
     },
     "execution_count": 7,
     "metadata": {},
     "output_type": "execute_result"
    }
   ],
   "source": [
    "df"
   ]
  },
  {
   "cell_type": "code",
   "execution_count": 8,
   "id": "6f259d5a",
   "metadata": {},
   "outputs": [],
   "source": [
    "def height_in_cms(ht):\n",
    "  if ht.lower() != 'nan':\n",
    "    ht = ht.replace('\\'','').replace('\"', '') #'5\\' 8\"'\n",
    "    h_ft = int(ht.split()[0])\n",
    "    if len(ht.split()) > 1:\n",
    "      h_inch = int(ht.split()[1])\n",
    "    else:\n",
    "      h_inch = 0\n",
    "    h_inch += h_ft * 12\n",
    "    h_cm = int(h_inch * 2.54)\n",
    "    return h_cm\n"
   ]
  },
  {
   "cell_type": "code",
   "execution_count": 9,
   "id": "b93dc7a6",
   "metadata": {},
   "outputs": [],
   "source": [
    "df.height = df.height.astype(str).apply(height_in_cms)"
   ]
  },
  {
   "cell_type": "code",
   "execution_count": 10,
   "id": "565f40b4",
   "metadata": {},
   "outputs": [
    {
     "data": {
      "text/html": [
       "<div>\n",
       "<style scoped>\n",
       "    .dataframe tbody tr th:only-of-type {\n",
       "        vertical-align: middle;\n",
       "    }\n",
       "\n",
       "    .dataframe tbody tr th {\n",
       "        vertical-align: top;\n",
       "    }\n",
       "\n",
       "    .dataframe thead th {\n",
       "        text-align: right;\n",
       "    }\n",
       "</style>\n",
       "<table border=\"1\" class=\"dataframe\">\n",
       "  <thead>\n",
       "    <tr style=\"text-align: right;\">\n",
       "      <th></th>\n",
       "      <th>weight</th>\n",
       "      <th>rating</th>\n",
       "      <th>review_text</th>\n",
       "      <th>review_summary</th>\n",
       "      <th>height</th>\n",
       "      <th>size</th>\n",
       "    </tr>\n",
       "  </thead>\n",
       "  <tbody>\n",
       "    <tr>\n",
       "      <th>0</th>\n",
       "      <td>137lbs</td>\n",
       "      <td>10</td>\n",
       "      <td>An adorable romper! Belt and zipper were a lit...</td>\n",
       "      <td>So many compliments!</td>\n",
       "      <td>172.0</td>\n",
       "      <td>14</td>\n",
       "    </tr>\n",
       "    <tr>\n",
       "      <th>1</th>\n",
       "      <td>132lbs</td>\n",
       "      <td>10</td>\n",
       "      <td>I rented this dress for a photo shoot. The the...</td>\n",
       "      <td>I felt so glamourous!!!</td>\n",
       "      <td>167.0</td>\n",
       "      <td>12</td>\n",
       "    </tr>\n",
       "    <tr>\n",
       "      <th>2</th>\n",
       "      <td>NaN</td>\n",
       "      <td>10</td>\n",
       "      <td>This hugged in all the right places! It was a ...</td>\n",
       "      <td>It was a great time to celebrate the (almost) ...</td>\n",
       "      <td>162.0</td>\n",
       "      <td>4</td>\n",
       "    </tr>\n",
       "    <tr>\n",
       "      <th>3</th>\n",
       "      <td>135lbs</td>\n",
       "      <td>8</td>\n",
       "      <td>I rented this for my company's black tie award...</td>\n",
       "      <td>Dress arrived on time and in perfect condition.</td>\n",
       "      <td>165.0</td>\n",
       "      <td>8</td>\n",
       "    </tr>\n",
       "    <tr>\n",
       "      <th>4</th>\n",
       "      <td>145lbs</td>\n",
       "      <td>10</td>\n",
       "      <td>I have always been petite in my upper body and...</td>\n",
       "      <td>Was in love with this dress !!!</td>\n",
       "      <td>175.0</td>\n",
       "      <td>12</td>\n",
       "    </tr>\n",
       "  </tbody>\n",
       "</table>\n",
       "</div>"
      ],
      "text/plain": [
       "   weight rating                                        review_text  \\\n",
       "0  137lbs     10  An adorable romper! Belt and zipper were a lit...   \n",
       "1  132lbs     10  I rented this dress for a photo shoot. The the...   \n",
       "2     NaN     10  This hugged in all the right places! It was a ...   \n",
       "3  135lbs      8  I rented this for my company's black tie award...   \n",
       "4  145lbs     10  I have always been petite in my upper body and...   \n",
       "\n",
       "                                      review_summary  height  size  \n",
       "0                               So many compliments!   172.0    14  \n",
       "1                            I felt so glamourous!!!   167.0    12  \n",
       "2  It was a great time to celebrate the (almost) ...   162.0     4  \n",
       "3   Dress arrived on time and in perfect condition.    165.0     8  \n",
       "4                    Was in love with this dress !!!   175.0    12  "
      ]
     },
     "execution_count": 10,
     "metadata": {},
     "output_type": "execute_result"
    }
   ],
   "source": [
    "df.head()"
   ]
  },
  {
   "cell_type": "code",
   "execution_count": 11,
   "id": "5cb59135",
   "metadata": {},
   "outputs": [
    {
     "name": "stdout",
     "output_type": "stream",
     "text": [
      "<class 'numpy.float64'>\n"
     ]
    }
   ],
   "source": [
    "print(type(df.height[0]))"
   ]
  },
  {
   "cell_type": "code",
   "execution_count": 12,
   "id": "3255b534",
   "metadata": {},
   "outputs": [],
   "source": [
    "def weightwolbs(w):\n",
    "    global w1\n",
    "    if w.lower() != 'nan':\n",
    "        w1=int(w[:-3])\n",
    "    return w1\n"
   ]
  },
  {
   "cell_type": "code",
   "execution_count": 13,
   "id": "e54a2872",
   "metadata": {},
   "outputs": [
    {
     "data": {
      "text/plain": [
       "0         137lbs\n",
       "1         132lbs\n",
       "2            NaN\n",
       "3         135lbs\n",
       "4         145lbs\n",
       "           ...  \n",
       "192539    140lbs\n",
       "192540    100lbs\n",
       "192541    135lbs\n",
       "192542    165lbs\n",
       "192543    155lbs\n",
       "Name: weight, Length: 192462, dtype: object"
      ]
     },
     "execution_count": 13,
     "metadata": {},
     "output_type": "execute_result"
    }
   ],
   "source": [
    "df.weight"
   ]
  },
  {
   "cell_type": "code",
   "execution_count": null,
   "id": "79be3498",
   "metadata": {},
   "outputs": [],
   "source": []
  },
  {
   "cell_type": "code",
   "execution_count": 14,
   "id": "d788257a",
   "metadata": {
    "scrolled": true
   },
   "outputs": [
    {
     "data": {
      "text/html": [
       "<div>\n",
       "<style scoped>\n",
       "    .dataframe tbody tr th:only-of-type {\n",
       "        vertical-align: middle;\n",
       "    }\n",
       "\n",
       "    .dataframe tbody tr th {\n",
       "        vertical-align: top;\n",
       "    }\n",
       "\n",
       "    .dataframe thead th {\n",
       "        text-align: right;\n",
       "    }\n",
       "</style>\n",
       "<table border=\"1\" class=\"dataframe\">\n",
       "  <thead>\n",
       "    <tr style=\"text-align: right;\">\n",
       "      <th></th>\n",
       "      <th>weight</th>\n",
       "      <th>rating</th>\n",
       "      <th>review_text</th>\n",
       "      <th>review_summary</th>\n",
       "      <th>height</th>\n",
       "      <th>size</th>\n",
       "    </tr>\n",
       "  </thead>\n",
       "  <tbody>\n",
       "    <tr>\n",
       "      <th>0</th>\n",
       "      <td>137</td>\n",
       "      <td>10</td>\n",
       "      <td>An adorable romper! Belt and zipper were a lit...</td>\n",
       "      <td>So many compliments!</td>\n",
       "      <td>172.0</td>\n",
       "      <td>14</td>\n",
       "    </tr>\n",
       "    <tr>\n",
       "      <th>1</th>\n",
       "      <td>132</td>\n",
       "      <td>10</td>\n",
       "      <td>I rented this dress for a photo shoot. The the...</td>\n",
       "      <td>I felt so glamourous!!!</td>\n",
       "      <td>167.0</td>\n",
       "      <td>12</td>\n",
       "    </tr>\n",
       "    <tr>\n",
       "      <th>2</th>\n",
       "      <td>132</td>\n",
       "      <td>10</td>\n",
       "      <td>This hugged in all the right places! It was a ...</td>\n",
       "      <td>It was a great time to celebrate the (almost) ...</td>\n",
       "      <td>162.0</td>\n",
       "      <td>4</td>\n",
       "    </tr>\n",
       "    <tr>\n",
       "      <th>3</th>\n",
       "      <td>135</td>\n",
       "      <td>8</td>\n",
       "      <td>I rented this for my company's black tie award...</td>\n",
       "      <td>Dress arrived on time and in perfect condition.</td>\n",
       "      <td>165.0</td>\n",
       "      <td>8</td>\n",
       "    </tr>\n",
       "    <tr>\n",
       "      <th>4</th>\n",
       "      <td>145</td>\n",
       "      <td>10</td>\n",
       "      <td>I have always been petite in my upper body and...</td>\n",
       "      <td>Was in love with this dress !!!</td>\n",
       "      <td>175.0</td>\n",
       "      <td>12</td>\n",
       "    </tr>\n",
       "  </tbody>\n",
       "</table>\n",
       "</div>"
      ],
      "text/plain": [
       "   weight rating                                        review_text  \\\n",
       "0     137     10  An adorable romper! Belt and zipper were a lit...   \n",
       "1     132     10  I rented this dress for a photo shoot. The the...   \n",
       "2     132     10  This hugged in all the right places! It was a ...   \n",
       "3     135      8  I rented this for my company's black tie award...   \n",
       "4     145     10  I have always been petite in my upper body and...   \n",
       "\n",
       "                                      review_summary  height  size  \n",
       "0                               So many compliments!   172.0    14  \n",
       "1                            I felt so glamourous!!!   167.0    12  \n",
       "2  It was a great time to celebrate the (almost) ...   162.0     4  \n",
       "3   Dress arrived on time and in perfect condition.    165.0     8  \n",
       "4                    Was in love with this dress !!!   175.0    12  "
      ]
     },
     "execution_count": 14,
     "metadata": {},
     "output_type": "execute_result"
    }
   ],
   "source": [
    "df.weight = df.weight.astype(str).apply(weightwolbs)\n",
    "df.head()"
   ]
  },
  {
   "cell_type": "code",
   "execution_count": 15,
   "id": "b0a0db6a",
   "metadata": {},
   "outputs": [
    {
     "name": "stdout",
     "output_type": "stream",
     "text": [
      "<class 'numpy.int64'>\n"
     ]
    }
   ],
   "source": [
    "print(type(df.weight[0]))"
   ]
  },
  {
   "cell_type": "code",
   "execution_count": 16,
   "id": "a2a7739b",
   "metadata": {},
   "outputs": [
    {
     "data": {
      "image/png": "[encoded data removed]",
      "text/plain": [
       "<Figure size 432x288 with 2 Axes>"
      ]
     },
     "metadata": {
      "needs_background": "light"
     },
     "output_type": "display_data"
    }
   ],
   "source": [
    "corr = df.corr()\n",
    "\n",
    "# plot the heatmap\n",
    "sns.heatmap(corr, cmap=\"Blues\", annot=True)\n",
    "plt.show()"
   ]
  },
  {
   "cell_type": "code",
   "execution_count": 17,
   "id": "d9e3324a",
   "metadata": {},
   "outputs": [
    {
     "data": {
      "text/plain": [
       "0"
      ]
     },
     "execution_count": 17,
     "metadata": {},
     "output_type": "execute_result"
    }
   ],
   "source": [
    "df.height.fillna(value=df.height.mean(), inplace=True)\n",
    "df.height.isnull().sum()"
   ]
  },
  {
   "cell_type": "code",
   "execution_count": 18,
   "id": "cd8ffa5a",
   "metadata": {},
   "outputs": [
    {
     "data": {
      "text/plain": [
       "0"
      ]
     },
     "execution_count": 18,
     "metadata": {},
     "output_type": "execute_result"
    }
   ],
   "source": [
    "df.weight.fillna(value=df.weight.mean(), inplace=True)\n",
    "df.weight.isnull().sum()"
   ]
  },
  {
   "cell_type": "code",
   "execution_count": 19,
   "id": "9f5d3735",
   "metadata": {},
   "outputs": [
    {
     "name": "stdout",
     "output_type": "stream",
     "text": [
      "<class 'str'>\n"
     ]
    }
   ],
   "source": [
    "print(type(df.rating[0]))"
   ]
  },
  {
   "cell_type": "code",
   "execution_count": 20,
   "id": "c4303496",
   "metadata": {},
   "outputs": [],
   "source": [
    "def ratestr(r):\n",
    "    global r1\n",
    "    if r != 'nan':\n",
    "        r1=int(r)\n",
    "    return r1\n",
    "\n",
    "df.rating = df.rating.astype(str).apply(ratestr)"
   ]
  },
  {
   "cell_type": "code",
   "execution_count": 21,
   "id": "cc8cdfc2",
   "metadata": {},
   "outputs": [
    {
     "name": "stdout",
     "output_type": "stream",
     "text": [
      "<class 'numpy.int64'>\n"
     ]
    }
   ],
   "source": [
    "print(type(df.rating[1]))"
   ]
  },
  {
   "cell_type": "code",
   "execution_count": 22,
   "id": "f08087b6",
   "metadata": {},
   "outputs": [
    {
     "data": {
      "text/plain": [
       "0"
      ]
     },
     "execution_count": 22,
     "metadata": {},
     "output_type": "execute_result"
    }
   ],
   "source": [
    "df.rating.fillna(value=df.rating.mean(), inplace=True)\n",
    "df.rating.isnull().sum()"
   ]
  },
  {
   "cell_type": "code",
   "execution_count": 23,
   "id": "8adea66e",
   "metadata": {},
   "outputs": [
    {
     "data": {
      "image/png": "[encoded data removed]",
      "text/plain": [
       "<Figure size 432x288 with 2 Axes>"
      ]
     },
     "metadata": {
      "needs_background": "light"
     },
     "output_type": "display_data"
    }
   ],
   "source": [
    "corr = df.corr()\n",
    "\n",
    "# plot the heatmap\n",
    "sns.heatmap(corr, cmap=\"Blues\", annot=True)\n",
    "plt.show()"
   ]
  },
  {
   "cell_type": "code",
   "execution_count": 24,
   "id": "ae960713",
   "metadata": {},
   "outputs": [
    {
     "data": {
      "text/plain": [
       "weight              int64\n",
       "rating              int64\n",
       "review_text        object\n",
       "review_summary     object\n",
       "height            float64\n",
       "size                int64\n",
       "dtype: object"
      ]
     },
     "execution_count": 24,
     "metadata": {},
     "output_type": "execute_result"
    }
   ],
   "source": [
    "df.dtypes"
   ]
  },
  {
   "cell_type": "code",
   "execution_count": 25,
   "id": "cf4d61c4",
   "metadata": {},
   "outputs": [
    {
     "data": {
      "text/html": [
       "<div>\n",
       "<style scoped>\n",
       "    .dataframe tbody tr th:only-of-type {\n",
       "        vertical-align: middle;\n",
       "    }\n",
       "\n",
       "    .dataframe tbody tr th {\n",
       "        vertical-align: top;\n",
       "    }\n",
       "\n",
       "    .dataframe thead th {\n",
       "        text-align: right;\n",
       "    }\n",
       "</style>\n",
       "<table border=\"1\" class=\"dataframe\">\n",
       "  <thead>\n",
       "    <tr style=\"text-align: right;\">\n",
       "      <th></th>\n",
       "      <th>weight</th>\n",
       "      <th>rating</th>\n",
       "      <th>review_text</th>\n",
       "      <th>review_summary</th>\n",
       "      <th>height</th>\n",
       "      <th>size</th>\n",
       "    </tr>\n",
       "  </thead>\n",
       "  <tbody>\n",
       "    <tr>\n",
       "      <th>0</th>\n",
       "      <td>137</td>\n",
       "      <td>10</td>\n",
       "      <td>An adorable romper! Belt and zipper were a lit...</td>\n",
       "      <td>So many compliments!</td>\n",
       "      <td>172.0</td>\n",
       "      <td>14</td>\n",
       "    </tr>\n",
       "    <tr>\n",
       "      <th>1</th>\n",
       "      <td>132</td>\n",
       "      <td>10</td>\n",
       "      <td>I rented this dress for a photo shoot. The the...</td>\n",
       "      <td>I felt so glamourous!!!</td>\n",
       "      <td>167.0</td>\n",
       "      <td>12</td>\n",
       "    </tr>\n",
       "    <tr>\n",
       "      <th>2</th>\n",
       "      <td>132</td>\n",
       "      <td>10</td>\n",
       "      <td>This hugged in all the right places! It was a ...</td>\n",
       "      <td>It was a great time to celebrate the (almost) ...</td>\n",
       "      <td>162.0</td>\n",
       "      <td>4</td>\n",
       "    </tr>\n",
       "    <tr>\n",
       "      <th>3</th>\n",
       "      <td>135</td>\n",
       "      <td>8</td>\n",
       "      <td>I rented this for my company's black tie award...</td>\n",
       "      <td>Dress arrived on time and in perfect condition.</td>\n",
       "      <td>165.0</td>\n",
       "      <td>8</td>\n",
       "    </tr>\n",
       "    <tr>\n",
       "      <th>4</th>\n",
       "      <td>145</td>\n",
       "      <td>10</td>\n",
       "      <td>I have always been petite in my upper body and...</td>\n",
       "      <td>Was in love with this dress !!!</td>\n",
       "      <td>175.0</td>\n",
       "      <td>12</td>\n",
       "    </tr>\n",
       "  </tbody>\n",
       "</table>\n",
       "</div>"
      ],
      "text/plain": [
       "   weight  rating                                        review_text  \\\n",
       "0     137      10  An adorable romper! Belt and zipper were a lit...   \n",
       "1     132      10  I rented this dress for a photo shoot. The the...   \n",
       "2     132      10  This hugged in all the right places! It was a ...   \n",
       "3     135       8  I rented this for my company's black tie award...   \n",
       "4     145      10  I have always been petite in my upper body and...   \n",
       "\n",
       "                                      review_summary  height  size  \n",
       "0                               So many compliments!   172.0    14  \n",
       "1                            I felt so glamourous!!!   167.0    12  \n",
       "2  It was a great time to celebrate the (almost) ...   162.0     4  \n",
       "3   Dress arrived on time and in perfect condition.    165.0     8  \n",
       "4                    Was in love with this dress !!!   175.0    12  "
      ]
     },
     "execution_count": 25,
     "metadata": {},
     "output_type": "execute_result"
    }
   ],
   "source": [
    "df.head()"
   ]
  },
  {
   "cell_type": "code",
   "execution_count": 26,
   "id": "96a1ac75",
   "metadata": {},
   "outputs": [],
   "source": [
    "#X = df.iloc[:,[1,5]]\n",
    "X = df.loc[:,['weight','height']]\n",
    "y= df.loc[:,['size']]"
   ]
  },
  {
   "cell_type": "code",
   "execution_count": 27,
   "id": "cbf85f56",
   "metadata": {},
   "outputs": [],
   "source": [
    "X_train, X_test, y_train, y_test = sklearn.model_selection.train_test_split(X, y, test_size=0.20, random_state=27)"
   ]
  },
  {
   "cell_type": "code",
   "execution_count": 28,
   "id": "37f1e936",
   "metadata": {},
   "outputs": [
    {
     "data": {
      "text/plain": [
       "((153969, 2), (38493, 2))"
      ]
     },
     "execution_count": 28,
     "metadata": {},
     "output_type": "execute_result"
    }
   ],
   "source": [
    "X_train.shape, X_test.shape"
   ]
  },
  {
   "cell_type": "code",
   "execution_count": 30,
   "id": "5780f020",
   "metadata": {},
   "outputs": [
    {
     "name": "stdout",
     "output_type": "stream",
     "text": [
      "0.2940274855168472\n"
     ]
    }
   ],
   "source": [
    "LogReg = sklearn.linear_model.LogisticRegression ()\n",
    "LogReg.fit(X_train,y_train)\n",
    "LogReg_prediction = LogReg.predict(X_test)\n",
    "print(accuracy_score(LogReg_prediction, y_test))"
   ]
  },
  {
   "cell_type": "code",
   "execution_count": null,
   "id": "685ee0db",
   "metadata": {},
   "outputs": [],
   "source": [
    "# SVC_model = SVC()\n",
    "# SVC_model.fit(X_train, y_train)\n",
    "# SVC_prediction = SVC_model.predict(X_test)\n",
    "# print(accuracy_score(SVC_prediction, y_test))\n"
   ]
  },
  {
   "cell_type": "code",
   "execution_count": 31,
   "id": "1d0cac7e",
   "metadata": {},
   "outputs": [
    {
     "name": "stdout",
     "output_type": "stream",
     "text": [
      "0.2513184215311875\n"
     ]
    }
   ],
   "source": [
    "KNN_model = KNeighborsClassifier(n_neighbors=5)\n",
    "KNN_model.fit(X_train, y_train)\n",
    "KNN_prediction = KNN_model.predict(X_test)\n",
    "print(accuracy_score(KNN_prediction, y_test))"
   ]
  },
  {
   "cell_type": "code",
   "execution_count": 33,
   "id": "bf52fcfa",
   "metadata": {},
   "outputs": [
    {
     "name": "stdout",
     "output_type": "stream",
     "text": [
      "0.3281116047073494\n"
     ]
    }
   ],
   "source": [
    "DTC_model = DecisionTreeClassifier()\n",
    "DTC_model.fit(X_train, y_train)\n",
    "DTC_prediction = DTC_model.predict(X_test)\n",
    "print(accuracy_score(DTC_prediction, y_test))"
   ]
  },
  {
   "cell_type": "code",
   "execution_count": null,
   "id": "e8895e2c",
   "metadata": {},
   "outputs": [],
   "source": []
  }
 ],
 "metadata": {
  "kernelspec": {
   "display_name": "Python 3 (ipykernel)",
   "language": "python",
   "name": "python3"
  },
  "language_info": {
   "codemirror_mode": {
    "name": "ipython",
    "version": 3
   },
   "file_extension": ".py",
   "mimetype": "text/x-python",
   "name": "python",
   "nbconvert_exporter": "python",
   "pygments_lexer": "ipython3",
   "version": "3.9.12"
  }
 },
 "nbformat": 4,
 "nbformat_minor": 5
}
